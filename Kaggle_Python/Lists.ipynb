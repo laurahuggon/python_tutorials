{
 "cells": [
  {
   "metadata": {},
   "cell_type": "markdown",
   "source": "# Lists",
   "id": "a029359383d2eafa"
  },
  {
   "metadata": {},
   "cell_type": "markdown",
   "source": "Lists in Python represent ordered sequences of values. Here is an example of how to create them:",
   "id": "9960c17e155a19d3"
  },
  {
   "cell_type": "code",
   "id": "initial_id",
   "metadata": {
    "collapsed": true,
    "ExecuteTime": {
     "end_time": "2024-05-29T08:45:36.238176Z",
     "start_time": "2024-05-29T08:45:36.225250Z"
    }
   },
   "source": "primes = [2, 3, 5, 7]",
   "outputs": [],
   "execution_count": 1
  },
  {
   "metadata": {},
   "cell_type": "markdown",
   "source": "We can put other types of things in lists:",
   "id": "7d63b0be156baa4b"
  },
  {
   "metadata": {
    "ExecuteTime": {
     "end_time": "2024-05-29T08:45:37.352600Z",
     "start_time": "2024-05-29T08:45:37.350156Z"
    }
   },
   "cell_type": "code",
   "source": "planets = ['Mercury', 'Venus', 'Earth', 'Mars', 'Jupiter', 'Saturn', 'Uranus', 'Neptune']",
   "id": "263f4fa7cc5bd6d1",
   "outputs": [],
   "execution_count": 2
  },
  {
   "metadata": {},
   "cell_type": "markdown",
   "source": "We can even make a list of lists:",
   "id": "c26d572f3b123b5c"
  },
  {
   "metadata": {
    "ExecuteTime": {
     "end_time": "2024-05-29T08:45:38.063011Z",
     "start_time": "2024-05-29T08:45:38.059953Z"
    }
   },
   "cell_type": "code",
   "source": [
    "hands = [\n",
    "    ['J', 'Q', 'K'],\n",
    "    ['2', '2', '2'],\n",
    "    ['6', 'A', 'K'], # (Comma after the last element is optional)\n",
    "]\n",
    "# (I could also have written this on one line, but it can get hard to read)\n",
    "hands = [['J', 'Q', 'K'], ['2', '2', '2'], ['6', 'A', 'K']]"
   ],
   "id": "acee10d53415800b",
   "outputs": [],
   "execution_count": 3
  },
  {
   "metadata": {},
   "cell_type": "markdown",
   "source": "A list can contain a mix of different types of variables:",
   "id": "f66057a4e1901d3"
  },
  {
   "metadata": {
    "ExecuteTime": {
     "end_time": "2024-05-29T08:45:38.544866Z",
     "start_time": "2024-05-29T08:45:38.542893Z"
    }
   },
   "cell_type": "code",
   "source": "my_favourite_things = [32, 'raindrops on roses', help]",
   "id": "e9a834de335d1d1e",
   "outputs": [],
   "execution_count": 4
  },
  {
   "metadata": {},
   "cell_type": "markdown",
   "source": [
    "## Indexing\n",
    "\n",
    "You can access individual list elements with square brackets.\n",
    "\n",
    "Which planet is closest to the sun? Python uses zero-based indexing, so the first element has index 0."
   ],
   "id": "32a94b6f0d04a045"
  },
  {
   "metadata": {
    "ExecuteTime": {
     "end_time": "2024-05-29T08:45:38.992877Z",
     "start_time": "2024-05-29T08:45:38.989295Z"
    }
   },
   "cell_type": "code",
   "source": "planets[0]",
   "id": "c3e59845578f8f46",
   "outputs": [
    {
     "data": {
      "text/plain": [
       "'Mercury'"
      ]
     },
     "execution_count": 5,
     "metadata": {},
     "output_type": "execute_result"
    }
   ],
   "execution_count": 5
  },
  {
   "metadata": {},
   "cell_type": "markdown",
   "source": "What's the next closest planet?",
   "id": "242786d833767922"
  },
  {
   "metadata": {
    "ExecuteTime": {
     "end_time": "2024-05-29T08:45:39.431233Z",
     "start_time": "2024-05-29T08:45:39.428567Z"
    }
   },
   "cell_type": "code",
   "source": "planets[1]",
   "id": "9e94df72235be58f",
   "outputs": [
    {
     "data": {
      "text/plain": [
       "'Venus'"
      ]
     },
     "execution_count": 6,
     "metadata": {},
     "output_type": "execute_result"
    }
   ],
   "execution_count": 6
  },
  {
   "metadata": {},
   "cell_type": "markdown",
   "source": [
    "Which planet is furthest from the sun?\n",
    "\n",
    "Elements at the end of the list can be accessed with negative numbers, starting from -1:"
   ],
   "id": "8d474309bf81c41b"
  },
  {
   "metadata": {
    "ExecuteTime": {
     "end_time": "2024-05-29T08:45:39.804708Z",
     "start_time": "2024-05-29T08:45:39.800403Z"
    }
   },
   "cell_type": "code",
   "source": "planets[-1]",
   "id": "43022a468c9ce9e5",
   "outputs": [
    {
     "data": {
      "text/plain": [
       "'Neptune'"
      ]
     },
     "execution_count": 7,
     "metadata": {},
     "output_type": "execute_result"
    }
   ],
   "execution_count": 7
  },
  {
   "metadata": {
    "ExecuteTime": {
     "end_time": "2024-05-29T08:45:40.009631Z",
     "start_time": "2024-05-29T08:45:40.006941Z"
    }
   },
   "cell_type": "code",
   "source": "planets[-2]",
   "id": "d9f790b44a99f682",
   "outputs": [
    {
     "data": {
      "text/plain": [
       "'Uranus'"
      ]
     },
     "execution_count": 8,
     "metadata": {},
     "output_type": "execute_result"
    }
   ],
   "execution_count": 8
  },
  {
   "metadata": {},
   "cell_type": "markdown",
   "source": [
    "## Slicing\n",
    "\n",
    "What are the first three planets? We can answer this question using slicing:"
   ],
   "id": "28a75058b6632da"
  },
  {
   "metadata": {
    "ExecuteTime": {
     "end_time": "2024-05-29T08:45:40.414891Z",
     "start_time": "2024-05-29T08:45:40.412238Z"
    }
   },
   "cell_type": "code",
   "source": "planets[0:3]",
   "id": "d9bb1e45a9939784",
   "outputs": [
    {
     "data": {
      "text/plain": [
       "['Mercury', 'Venus', 'Earth']"
      ]
     },
     "execution_count": 9,
     "metadata": {},
     "output_type": "execute_result"
    }
   ],
   "execution_count": 9
  },
  {
   "metadata": {},
   "cell_type": "markdown",
   "source": [
    "`planets[0:3]` is our way of asking for the elements of `planets` starting from index 0 and continuing up to *but not including* index 3.\n",
    "\n",
    "The starting and ending indices are both optional. If I leave out the start index, it's assumed to be 0. So I could rewrite the expression above as:"
   ],
   "id": "7520dee5bef990ce"
  },
  {
   "metadata": {
    "ExecuteTime": {
     "end_time": "2024-05-29T08:45:40.789493Z",
     "start_time": "2024-05-29T08:45:40.780262Z"
    }
   },
   "cell_type": "code",
   "source": "planets[:3]",
   "id": "2b37aedff42dbde5",
   "outputs": [
    {
     "data": {
      "text/plain": [
       "['Mercury', 'Venus', 'Earth']"
      ]
     },
     "execution_count": 10,
     "metadata": {},
     "output_type": "execute_result"
    }
   ],
   "execution_count": 10
  },
  {
   "metadata": {},
   "cell_type": "markdown",
   "source": "If I leave out the end index, it's assumed to be the length of the list.",
   "id": "2d9bfda2de777fa1"
  },
  {
   "metadata": {
    "ExecuteTime": {
     "end_time": "2024-05-29T08:45:41.200944Z",
     "start_time": "2024-05-29T08:45:41.191889Z"
    }
   },
   "cell_type": "code",
   "source": "planets[3:]",
   "id": "e0741455431de8ed",
   "outputs": [
    {
     "data": {
      "text/plain": [
       "['Mars', 'Jupiter', 'Saturn', 'Uranus', 'Neptune']"
      ]
     },
     "execution_count": 11,
     "metadata": {},
     "output_type": "execute_result"
    }
   ],
   "execution_count": 11
  },
  {
   "metadata": {},
   "cell_type": "markdown",
   "source": [
    "i.e. the expression above means \"give me all the planets from index 3 onward\".\n",
    "\n",
    "We can also use negative indices when slicing:"
   ],
   "id": "2e3fbab57af7a7ff"
  },
  {
   "metadata": {
    "ExecuteTime": {
     "end_time": "2024-05-29T08:45:41.594156Z",
     "start_time": "2024-05-29T08:45:41.591365Z"
    }
   },
   "cell_type": "code",
   "source": [
    "# All the planets except the first and last\n",
    "planets[1:-1]"
   ],
   "id": "338d8fa4830bed1c",
   "outputs": [
    {
     "data": {
      "text/plain": [
       "['Venus', 'Earth', 'Mars', 'Jupiter', 'Saturn', 'Uranus']"
      ]
     },
     "execution_count": 12,
     "metadata": {},
     "output_type": "execute_result"
    }
   ],
   "execution_count": 12
  },
  {
   "metadata": {
    "ExecuteTime": {
     "end_time": "2024-05-29T08:45:41.801627Z",
     "start_time": "2024-05-29T08:45:41.799147Z"
    }
   },
   "cell_type": "code",
   "source": [
    "# The last 3 planets\n",
    "planets[-3:]"
   ],
   "id": "b21612f53e1f6d52",
   "outputs": [
    {
     "data": {
      "text/plain": [
       "['Saturn', 'Uranus', 'Neptune']"
      ]
     },
     "execution_count": 13,
     "metadata": {},
     "output_type": "execute_result"
    }
   ],
   "execution_count": 13
  },
  {
   "metadata": {},
   "cell_type": "markdown",
   "source": [
    "## Changing lists\n",
    "\n",
    "Lists are \"mutable\", meaning they can be modified \"in place\".\n",
    "\n",
    "One way to modify a list is to assign to an index or slice expression.\n",
    "\n",
    "For example, let's say we want to rename Mars:"
   ],
   "id": "76f2532a47711e38"
  },
  {
   "metadata": {
    "ExecuteTime": {
     "end_time": "2024-05-29T08:45:42.207873Z",
     "start_time": "2024-05-29T08:45:42.205126Z"
    }
   },
   "cell_type": "code",
   "source": [
    "planets[3] = 'Malacandra'\n",
    "planets"
   ],
   "id": "39453d9f5d642278",
   "outputs": [
    {
     "data": {
      "text/plain": [
       "['Mercury',\n",
       " 'Venus',\n",
       " 'Earth',\n",
       " 'Malacandra',\n",
       " 'Jupiter',\n",
       " 'Saturn',\n",
       " 'Uranus',\n",
       " 'Neptune']"
      ]
     },
     "execution_count": 14,
     "metadata": {},
     "output_type": "execute_result"
    }
   ],
   "execution_count": 14
  },
  {
   "metadata": {},
   "cell_type": "markdown",
   "source": "Shorten the names of the first 3 planets.",
   "id": "be48812821438b5a"
  },
  {
   "metadata": {
    "ExecuteTime": {
     "end_time": "2024-05-29T08:45:42.599091Z",
     "start_time": "2024-05-29T08:45:42.596558Z"
    }
   },
   "cell_type": "code",
   "source": [
    "planets[:3] = ['Mur', 'Vee', 'Ur']\n",
    "print(planets)\n",
    "# That was silly. Let's give them back their old names\n",
    "planets[:4] = ['Mercury', 'Venus', 'Earth', 'Mars',]"
   ],
   "id": "65d0536d8580482b",
   "outputs": [
    {
     "name": "stdout",
     "output_type": "stream",
     "text": [
      "['Mur', 'Vee', 'Ur', 'Malacandra', 'Jupiter', 'Saturn', 'Uranus', 'Neptune']\n"
     ]
    }
   ],
   "execution_count": 15
  },
  {
   "metadata": {},
   "cell_type": "markdown",
   "source": [
    "## List functions\n",
    "\n",
    "Python has several useful functions for working with lists.\n",
    "\n",
    "`len` gives the length of a list:"
   ],
   "id": "99e3c4b5ac28ae9c"
  },
  {
   "metadata": {
    "ExecuteTime": {
     "end_time": "2024-05-29T08:45:42.989892Z",
     "start_time": "2024-05-29T08:45:42.987738Z"
    }
   },
   "cell_type": "code",
   "source": [
    "# How many planets are there?\n",
    "len(planets)"
   ],
   "id": "f9529b031d42d138",
   "outputs": [
    {
     "data": {
      "text/plain": [
       "8"
      ]
     },
     "execution_count": 16,
     "metadata": {},
     "output_type": "execute_result"
    }
   ],
   "execution_count": 16
  },
  {
   "metadata": {},
   "cell_type": "markdown",
   "source": "`sorted` returns a sorted version of a list:",
   "id": "4b7c24b40fb312ec"
  },
  {
   "metadata": {
    "ExecuteTime": {
     "end_time": "2024-05-29T08:45:43.390153Z",
     "start_time": "2024-05-29T08:45:43.387950Z"
    }
   },
   "cell_type": "code",
   "source": [
    "# The planets sorted in alphabetical order\n",
    "sorted(planets)"
   ],
   "id": "b2493115476c370b",
   "outputs": [
    {
     "data": {
      "text/plain": [
       "['Earth', 'Jupiter', 'Mars', 'Mercury', 'Neptune', 'Saturn', 'Uranus', 'Venus']"
      ]
     },
     "execution_count": 17,
     "metadata": {},
     "output_type": "execute_result"
    }
   ],
   "execution_count": 17
  },
  {
   "metadata": {},
   "cell_type": "markdown",
   "source": "`sum` does what you might expect:",
   "id": "feaf8080532b2afe"
  },
  {
   "metadata": {
    "ExecuteTime": {
     "end_time": "2024-05-29T08:45:43.814551Z",
     "start_time": "2024-05-29T08:45:43.811988Z"
    }
   },
   "cell_type": "code",
   "source": [
    "primes = [2, 3, 5, 7]\n",
    "sum(primes)"
   ],
   "id": "58fdc2f21b9778fb",
   "outputs": [
    {
     "data": {
      "text/plain": [
       "17"
      ]
     },
     "execution_count": 18,
     "metadata": {},
     "output_type": "execute_result"
    }
   ],
   "execution_count": 18
  },
  {
   "metadata": {},
   "cell_type": "markdown",
   "source": "We've previously used the `min` and `max` to get the minimum or maximum of several arguments. But we can also pass in a single list argument.",
   "id": "ceeb8ced9b37dba2"
  },
  {
   "metadata": {
    "ExecuteTime": {
     "end_time": "2024-05-29T08:45:44.291904Z",
     "start_time": "2024-05-29T08:45:44.286899Z"
    }
   },
   "cell_type": "code",
   "source": "max(primes)",
   "id": "8738ac3dad757d60",
   "outputs": [
    {
     "data": {
      "text/plain": [
       "7"
      ]
     },
     "execution_count": 19,
     "metadata": {},
     "output_type": "execute_result"
    }
   ],
   "execution_count": 19
  },
  {
   "metadata": {},
   "cell_type": "markdown",
   "source": [
    "## Interlude: objects\n",
    "\n",
    "The term 'object' has been used a lot so far - you may have even read that everything in Python is an object. What does that mean?\n",
    "\n",
    "In short, objects carry some things around with them. You access that stuff using Python's dot syntax.\n",
    "\n",
    "For example, numbers in Python carry around an associated variable called `imag` representing their imaginary part. (You'll probably never need to use this unless you're doing some very weird math.)"
   ],
   "id": "61b80c3cd62ded5"
  },
  {
   "metadata": {
    "ExecuteTime": {
     "end_time": "2024-05-29T08:45:44.704808Z",
     "start_time": "2024-05-29T08:45:44.702544Z"
    }
   },
   "cell_type": "code",
   "source": [
    "x = 12\n",
    "# x is a real number, so its imaginary part is 0.\n",
    "print(x.imag)\n",
    "# Here's how to make a complex number, in case you've ever been curious:\n",
    "c = 12 + 3j\n",
    "print(c.imag)"
   ],
   "id": "5fd2c3d98051efa4",
   "outputs": [
    {
     "name": "stdout",
     "output_type": "stream",
     "text": [
      "0\n",
      "3.0\n"
     ]
    }
   ],
   "execution_count": 20
  },
  {
   "metadata": {},
   "cell_type": "markdown",
   "source": [
    "The things an object carries around can also include functions. A function attached to an object is called a **method**. (Non-function things attached to an object, such as `imag`, are called *attributes*).\n",
    "\n",
    "For example, numbers have a method called `bit_length`. Again, we access it using dot syntax:"
   ],
   "id": "b34c1c50697a443c"
  },
  {
   "metadata": {
    "ExecuteTime": {
     "end_time": "2024-05-29T08:45:45.492365Z",
     "start_time": "2024-05-29T08:45:45.489133Z"
    }
   },
   "cell_type": "code",
   "source": "x.bit_length",
   "id": "2be4b189c3d68836",
   "outputs": [
    {
     "data": {
      "text/plain": [
       "<function int.bit_length()>"
      ]
     },
     "execution_count": 21,
     "metadata": {},
     "output_type": "execute_result"
    }
   ],
   "execution_count": 21
  },
  {
   "metadata": {},
   "cell_type": "markdown",
   "source": "To actually call it, we add parentheses:",
   "id": "2d95baa758348c93"
  },
  {
   "metadata": {
    "ExecuteTime": {
     "end_time": "2024-05-29T08:45:46.201373Z",
     "start_time": "2024-05-29T08:45:46.197594Z"
    }
   },
   "cell_type": "code",
   "source": "x.bit_length()",
   "id": "5ee8f6003fbbd986",
   "outputs": [
    {
     "data": {
      "text/plain": [
       "4"
      ]
     },
     "execution_count": 22,
     "metadata": {},
     "output_type": "execute_result"
    }
   ],
   "execution_count": 22
  },
  {
   "metadata": {},
   "cell_type": "markdown",
   "source": "In the same way that we can pass functions to the `help` function (e.g. `help(max)`), we can also pass in methods:",
   "id": "d74283ac410d23ac"
  },
  {
   "metadata": {
    "ExecuteTime": {
     "end_time": "2024-05-29T08:45:47.043204Z",
     "start_time": "2024-05-29T08:45:47.038886Z"
    }
   },
   "cell_type": "code",
   "source": "help(x.bit_length)",
   "id": "9b205b46a0e7268d",
   "outputs": [
    {
     "name": "stdout",
     "output_type": "stream",
     "text": [
      "Help on built-in function bit_length:\n",
      "\n",
      "bit_length() method of builtins.int instance\n",
      "    Number of bits necessary to represent self in binary.\n",
      "    \n",
      "    >>> bin(37)\n",
      "    '0b100101'\n",
      "    >>> (37).bit_length()\n",
      "    6\n",
      "\n"
     ]
    }
   ],
   "execution_count": 23
  },
  {
   "metadata": {},
   "cell_type": "markdown",
   "source": [
    "The examples above were utterly obscure. None of the types of objects we've looked at so far (numbers, functions, booleans) have attributes or methods you're likely ever to use.\n",
    "\n",
    "But it turns out that lists have several methods which you'll use all the time.\n",
    "\n",
    "## List methods\n",
    "\n",
    "`list.append` modifies a list by adding an item to the end:"
   ],
   "id": "c697e672e4be7985"
  },
  {
   "metadata": {
    "ExecuteTime": {
     "end_time": "2024-05-29T08:45:47.975230Z",
     "start_time": "2024-05-29T08:45:47.972188Z"
    }
   },
   "cell_type": "code",
   "source": [
    "# Pluto is a planet darn it!\n",
    "planets.append('Pluto')"
   ],
   "id": "f58a754e456bd30f",
   "outputs": [],
   "execution_count": 24
  },
  {
   "metadata": {},
   "cell_type": "markdown",
   "source": [
    "Why does the cell above have no output? Let's check the documentation by calling `help(planets.append)`.\n",
    "\n",
    "**Aside:** `append` is a method carried around by all objects of type list, not just planets, so we also could have called `help(list.append)`. However, if we try to call `help(append)`, Python will complain that no variable exists called \"append\". The \"append\" name only exists within lists - it doesn't exist as a standalone name like builtin functions such as `max` or `len`."
   ],
   "id": "4e841ad887ecafa4"
  },
  {
   "metadata": {
    "ExecuteTime": {
     "end_time": "2024-05-29T08:45:48.744010Z",
     "start_time": "2024-05-29T08:45:48.741098Z"
    }
   },
   "cell_type": "code",
   "source": "help(planets.append)",
   "id": "eb578205e2414800",
   "outputs": [
    {
     "name": "stdout",
     "output_type": "stream",
     "text": [
      "Help on built-in function append:\n",
      "\n",
      "append(object, /) method of builtins.list instance\n",
      "    Append object to the end of the list.\n",
      "\n"
     ]
    }
   ],
   "execution_count": 25
  },
  {
   "metadata": {},
   "cell_type": "markdown",
   "source": "`list.append` doesn't return anything. But if we check the value of `planets`, we can see that the method call modified the value of `planets`:",
   "id": "d03a20e505bcb884"
  },
  {
   "metadata": {
    "ExecuteTime": {
     "end_time": "2024-05-29T08:45:49.479534Z",
     "start_time": "2024-05-29T08:45:49.476146Z"
    }
   },
   "cell_type": "code",
   "source": "planets",
   "id": "6ee9eaa98279cb31",
   "outputs": [
    {
     "data": {
      "text/plain": [
       "['Mercury',\n",
       " 'Venus',\n",
       " 'Earth',\n",
       " 'Mars',\n",
       " 'Jupiter',\n",
       " 'Saturn',\n",
       " 'Uranus',\n",
       " 'Neptune',\n",
       " 'Pluto']"
      ]
     },
     "execution_count": 26,
     "metadata": {},
     "output_type": "execute_result"
    }
   ],
   "execution_count": 26
  },
  {
   "metadata": {},
   "cell_type": "markdown",
   "source": "`list.pop` removes and returns the last element of a list:",
   "id": "b6edbd5ada8873f8"
  },
  {
   "metadata": {
    "ExecuteTime": {
     "end_time": "2024-05-29T08:45:50.318578Z",
     "start_time": "2024-05-29T08:45:50.315739Z"
    }
   },
   "cell_type": "code",
   "source": "planets.pop()",
   "id": "de2dcc9292753b67",
   "outputs": [
    {
     "data": {
      "text/plain": [
       "'Pluto'"
      ]
     },
     "execution_count": 27,
     "metadata": {},
     "output_type": "execute_result"
    }
   ],
   "execution_count": 27
  },
  {
   "metadata": {
    "ExecuteTime": {
     "end_time": "2024-05-29T08:45:50.612397Z",
     "start_time": "2024-05-29T08:45:50.609563Z"
    }
   },
   "cell_type": "code",
   "source": "planets",
   "id": "d353d25fd0147080",
   "outputs": [
    {
     "data": {
      "text/plain": [
       "['Mercury', 'Venus', 'Earth', 'Mars', 'Jupiter', 'Saturn', 'Uranus', 'Neptune']"
      ]
     },
     "execution_count": 28,
     "metadata": {},
     "output_type": "execute_result"
    }
   ],
   "execution_count": 28
  },
  {
   "metadata": {},
   "cell_type": "markdown",
   "source": [
    "## Searching lists\n",
    "\n",
    "Where does Earth fall in the order of planets? We can get its index using the `list.index` method."
   ],
   "id": "127d4979f896762a"
  },
  {
   "metadata": {
    "ExecuteTime": {
     "end_time": "2024-05-29T08:45:50.966408Z",
     "start_time": "2024-05-29T08:45:50.963992Z"
    }
   },
   "cell_type": "code",
   "source": "planets.index(\"Earth\")",
   "id": "3d56a84035cbfa84",
   "outputs": [
    {
     "data": {
      "text/plain": [
       "2"
      ]
     },
     "execution_count": 29,
     "metadata": {},
     "output_type": "execute_result"
    }
   ],
   "execution_count": 29
  },
  {
   "metadata": {},
   "cell_type": "markdown",
   "source": [
    "It comes third (i.e. at index 2 - 0 indexing!).\n",
    "\n",
    "At what index does Pluto occur?"
   ],
   "id": "9cc0fb20f2c008a1"
  },
  {
   "metadata": {
    "ExecuteTime": {
     "end_time": "2024-05-29T08:45:51.672866Z",
     "start_time": "2024-05-29T08:45:51.548171Z"
    }
   },
   "cell_type": "code",
   "source": "planets.index(\"Pluto\")",
   "id": "566fa650275b3bb3",
   "outputs": [
    {
     "ename": "ValueError",
     "evalue": "'Pluto' is not in list",
     "output_type": "error",
     "traceback": [
      "\u001B[0;31m---------------------------------------------------------------------------\u001B[0m",
      "\u001B[0;31mValueError\u001B[0m                                Traceback (most recent call last)",
      "Cell \u001B[0;32mIn[30], line 1\u001B[0m\n\u001B[0;32m----> 1\u001B[0m \u001B[43mplanets\u001B[49m\u001B[38;5;241;43m.\u001B[39;49m\u001B[43mindex\u001B[49m\u001B[43m(\u001B[49m\u001B[38;5;124;43m\"\u001B[39;49m\u001B[38;5;124;43mPluto\u001B[39;49m\u001B[38;5;124;43m\"\u001B[39;49m\u001B[43m)\u001B[49m\n",
      "\u001B[0;31mValueError\u001B[0m: 'Pluto' is not in list"
     ]
    }
   ],
   "execution_count": 30
  },
  {
   "metadata": {},
   "cell_type": "markdown",
   "source": "To avoid unpleasant surprises like this, we can use the `in` operator to determine whether a list contains a particular value:",
   "id": "ebbdc9580aa96287"
  },
  {
   "metadata": {
    "ExecuteTime": {
     "end_time": "2024-05-29T08:45:51.725820Z",
     "start_time": "2024-05-29T08:45:51.723492Z"
    }
   },
   "cell_type": "code",
   "source": [
    "# Is Earth a planet?\n",
    "\"Earth\" in planets"
   ],
   "id": "b5c4407e419e5749",
   "outputs": [
    {
     "data": {
      "text/plain": [
       "True"
      ]
     },
     "execution_count": 31,
     "metadata": {},
     "output_type": "execute_result"
    }
   ],
   "execution_count": 31
  },
  {
   "metadata": {
    "ExecuteTime": {
     "end_time": "2024-05-29T08:45:51.825002Z",
     "start_time": "2024-05-29T08:45:51.822624Z"
    }
   },
   "cell_type": "code",
   "source": [
    "# Is Calbefraques a planet?\n",
    "\"Calbefraques\" in planets"
   ],
   "id": "35dd88c5e4ad0042",
   "outputs": [
    {
     "data": {
      "text/plain": [
       "False"
      ]
     },
     "execution_count": 32,
     "metadata": {},
     "output_type": "execute_result"
    }
   ],
   "execution_count": 32
  },
  {
   "metadata": {},
   "cell_type": "markdown",
   "source": "There are a few more interesting list methods we haven't covered. If you want to learn about all the methods and attributes attached to a particular object, we can call `help()` on the object itself. For example, `help(planets)` will tell us about all the list methods:",
   "id": "5047d4f52f116dda"
  },
  {
   "metadata": {
    "ExecuteTime": {
     "end_time": "2024-05-29T08:45:51.972555Z",
     "start_time": "2024-05-29T08:45:51.967372Z"
    }
   },
   "cell_type": "code",
   "source": "help(planets)",
   "id": "d7119bfb4d02bfae",
   "outputs": [
    {
     "name": "stdout",
     "output_type": "stream",
     "text": [
      "Help on list object:\n",
      "\n",
      "class list(object)\n",
      " |  list(iterable=(), /)\n",
      " |  \n",
      " |  Built-in mutable sequence.\n",
      " |  \n",
      " |  If no argument is given, the constructor creates a new empty list.\n",
      " |  The argument must be an iterable if specified.\n",
      " |  \n",
      " |  Methods defined here:\n",
      " |  \n",
      " |  __add__(self, value, /)\n",
      " |      Return self+value.\n",
      " |  \n",
      " |  __contains__(self, key, /)\n",
      " |      Return key in self.\n",
      " |  \n",
      " |  __delitem__(self, key, /)\n",
      " |      Delete self[key].\n",
      " |  \n",
      " |  __eq__(self, value, /)\n",
      " |      Return self==value.\n",
      " |  \n",
      " |  __ge__(self, value, /)\n",
      " |      Return self>=value.\n",
      " |  \n",
      " |  __getattribute__(self, name, /)\n",
      " |      Return getattr(self, name).\n",
      " |  \n",
      " |  __getitem__(...)\n",
      " |      x.__getitem__(y) <==> x[y]\n",
      " |  \n",
      " |  __gt__(self, value, /)\n",
      " |      Return self>value.\n",
      " |  \n",
      " |  __iadd__(self, value, /)\n",
      " |      Implement self+=value.\n",
      " |  \n",
      " |  __imul__(self, value, /)\n",
      " |      Implement self*=value.\n",
      " |  \n",
      " |  __init__(self, /, *args, **kwargs)\n",
      " |      Initialize self.  See help(type(self)) for accurate signature.\n",
      " |  \n",
      " |  __iter__(self, /)\n",
      " |      Implement iter(self).\n",
      " |  \n",
      " |  __le__(self, value, /)\n",
      " |      Return self<=value.\n",
      " |  \n",
      " |  __len__(self, /)\n",
      " |      Return len(self).\n",
      " |  \n",
      " |  __lt__(self, value, /)\n",
      " |      Return self<value.\n",
      " |  \n",
      " |  __mul__(self, value, /)\n",
      " |      Return self*value.\n",
      " |  \n",
      " |  __ne__(self, value, /)\n",
      " |      Return self!=value.\n",
      " |  \n",
      " |  __repr__(self, /)\n",
      " |      Return repr(self).\n",
      " |  \n",
      " |  __reversed__(self, /)\n",
      " |      Return a reverse iterator over the list.\n",
      " |  \n",
      " |  __rmul__(self, value, /)\n",
      " |      Return value*self.\n",
      " |  \n",
      " |  __setitem__(self, key, value, /)\n",
      " |      Set self[key] to value.\n",
      " |  \n",
      " |  __sizeof__(self, /)\n",
      " |      Return the size of the list in memory, in bytes.\n",
      " |  \n",
      " |  append(self, object, /)\n",
      " |      Append object to the end of the list.\n",
      " |  \n",
      " |  clear(self, /)\n",
      " |      Remove all items from list.\n",
      " |  \n",
      " |  copy(self, /)\n",
      " |      Return a shallow copy of the list.\n",
      " |  \n",
      " |  count(self, value, /)\n",
      " |      Return number of occurrences of value.\n",
      " |  \n",
      " |  extend(self, iterable, /)\n",
      " |      Extend list by appending elements from the iterable.\n",
      " |  \n",
      " |  index(self, value, start=0, stop=9223372036854775807, /)\n",
      " |      Return first index of value.\n",
      " |      \n",
      " |      Raises ValueError if the value is not present.\n",
      " |  \n",
      " |  insert(self, index, object, /)\n",
      " |      Insert object before index.\n",
      " |  \n",
      " |  pop(self, index=-1, /)\n",
      " |      Remove and return item at index (default last).\n",
      " |      \n",
      " |      Raises IndexError if list is empty or index is out of range.\n",
      " |  \n",
      " |  remove(self, value, /)\n",
      " |      Remove first occurrence of value.\n",
      " |      \n",
      " |      Raises ValueError if the value is not present.\n",
      " |  \n",
      " |  reverse(self, /)\n",
      " |      Reverse *IN PLACE*.\n",
      " |  \n",
      " |  sort(self, /, *, key=None, reverse=False)\n",
      " |      Sort the list in ascending order and return None.\n",
      " |      \n",
      " |      The sort is in-place (i.e. the list itself is modified) and stable (i.e. the\n",
      " |      order of two equal elements is maintained).\n",
      " |      \n",
      " |      If a key function is given, apply it once to each list item and sort them,\n",
      " |      ascending or descending, according to their function values.\n",
      " |      \n",
      " |      The reverse flag can be set to sort in descending order.\n",
      " |  \n",
      " |  ----------------------------------------------------------------------\n",
      " |  Class methods defined here:\n",
      " |  \n",
      " |  __class_getitem__(...) from builtins.type\n",
      " |      See PEP 585\n",
      " |  \n",
      " |  ----------------------------------------------------------------------\n",
      " |  Static methods defined here:\n",
      " |  \n",
      " |  __new__(*args, **kwargs) from builtins.type\n",
      " |      Create and return a new object.  See help(type) for accurate signature.\n",
      " |  \n",
      " |  ----------------------------------------------------------------------\n",
      " |  Data and other attributes defined here:\n",
      " |  \n",
      " |  __hash__ = None\n",
      "\n"
     ]
    }
   ],
   "execution_count": 33
  },
  {
   "metadata": {},
   "cell_type": "markdown",
   "source": [
    "Lists have lots of methods with weird-looking names like `__eq__` and `__iadd__`. Don't worry too much about these for now. (You'll probably never call such methods directly. But they get called behind the scenes when we use syntax like indexing or comparison operators.) The most interesting methods are toward the bottom of the list (`append`, `clear`, `copy`, etc.).\n",
    "\n",
    "## Tuples\n",
    "\n",
    "Tuples are almost exactly the same as lists. They differ in just two ways.\n",
    "\n",
    "**1:** The syntax for creating them uses parentheses instead of square brackets:"
   ],
   "id": "454a190567408c0"
  },
  {
   "metadata": {
    "ExecuteTime": {
     "end_time": "2024-05-29T08:45:52.161717Z",
     "start_time": "2024-05-29T08:45:52.159493Z"
    }
   },
   "cell_type": "code",
   "source": "t = (1, 2, 3)",
   "id": "c6036bd07374749",
   "outputs": [],
   "execution_count": 34
  },
  {
   "metadata": {
    "ExecuteTime": {
     "end_time": "2024-05-29T08:45:52.232209Z",
     "start_time": "2024-05-29T08:45:52.229848Z"
    }
   },
   "cell_type": "code",
   "source": [
    "t = 1, 2, 3 # equivalent to above\n",
    "t"
   ],
   "id": "e436e379ade63f9b",
   "outputs": [
    {
     "data": {
      "text/plain": [
       "(1, 2, 3)"
      ]
     },
     "execution_count": 35,
     "metadata": {},
     "output_type": "execute_result"
    }
   ],
   "execution_count": 35
  },
  {
   "metadata": {},
   "cell_type": "markdown",
   "source": "**2:** They cannot be modified (they are immutable).",
   "id": "867f5af1783cbe85"
  },
  {
   "metadata": {
    "ExecuteTime": {
     "end_time": "2024-05-29T08:45:52.391478Z",
     "start_time": "2024-05-29T08:45:52.383051Z"
    }
   },
   "cell_type": "code",
   "source": "t[0] = 100",
   "id": "cd10a744c76417d8",
   "outputs": [
    {
     "ename": "TypeError",
     "evalue": "'tuple' object does not support item assignment",
     "output_type": "error",
     "traceback": [
      "\u001B[0;31m---------------------------------------------------------------------------\u001B[0m",
      "\u001B[0;31mTypeError\u001B[0m                                 Traceback (most recent call last)",
      "Cell \u001B[0;32mIn[36], line 1\u001B[0m\n\u001B[0;32m----> 1\u001B[0m \u001B[43mt\u001B[49m\u001B[43m[\u001B[49m\u001B[38;5;241;43m0\u001B[39;49m\u001B[43m]\u001B[49m \u001B[38;5;241m=\u001B[39m \u001B[38;5;241m100\u001B[39m\n",
      "\u001B[0;31mTypeError\u001B[0m: 'tuple' object does not support item assignment"
     ]
    }
   ],
   "execution_count": 36
  },
  {
   "metadata": {},
   "cell_type": "markdown",
   "source": [
    "Tuples are often used for functions that have multiple return values.\n",
    "\n",
    "For example, the `as_integer_ratio()` method of float objects returns a numerator and a denominator in the form of a tuple:"
   ],
   "id": "5999dd770176e810"
  },
  {
   "metadata": {
    "ExecuteTime": {
     "end_time": "2024-05-29T08:45:52.564364Z",
     "start_time": "2024-05-29T08:45:52.561485Z"
    }
   },
   "cell_type": "code",
   "source": [
    "x = 0.125\n",
    "x.as_integer_ratio()"
   ],
   "id": "5321f354c6256d2d",
   "outputs": [
    {
     "data": {
      "text/plain": [
       "(1, 8)"
      ]
     },
     "execution_count": 37,
     "metadata": {},
     "output_type": "execute_result"
    }
   ],
   "execution_count": 37
  },
  {
   "metadata": {},
   "cell_type": "markdown",
   "source": "These multiple return values can be individually assigned as follows:",
   "id": "519bcbcb220d9e83"
  },
  {
   "metadata": {
    "ExecuteTime": {
     "end_time": "2024-05-29T08:45:52.720206Z",
     "start_time": "2024-05-29T08:45:52.718010Z"
    }
   },
   "cell_type": "code",
   "source": [
    "numerator, denominator = x.as_integer_ratio()\n",
    "print(numerator / denominator)"
   ],
   "id": "e6a30a3bcd2eb871",
   "outputs": [
    {
     "name": "stdout",
     "output_type": "stream",
     "text": [
      "0.125\n"
     ]
    }
   ],
   "execution_count": 38
  },
  {
   "metadata": {},
   "cell_type": "markdown",
   "source": "Finally we have some insight into the classic Stupid Python Trick™ for swapping two variables!",
   "id": "5be39bbf5f42c777"
  },
  {
   "metadata": {
    "ExecuteTime": {
     "end_time": "2024-05-29T08:45:52.881345Z",
     "start_time": "2024-05-29T08:45:52.878937Z"
    }
   },
   "cell_type": "code",
   "source": [
    "a = 1\n",
    "b = 0\n",
    "a, b = b, a\n",
    "print(a, b)"
   ],
   "id": "aa0fe2b30c960afb",
   "outputs": [
    {
     "name": "stdout",
     "output_type": "stream",
     "text": [
      "0 1\n"
     ]
    }
   ],
   "execution_count": 39
  }
 ],
 "metadata": {
  "kernelspec": {
   "display_name": "Python 3",
   "language": "python",
   "name": "python3"
  },
  "language_info": {
   "codemirror_mode": {
    "name": "ipython",
    "version": 2
   },
   "file_extension": ".py",
   "mimetype": "text/x-python",
   "name": "python",
   "nbconvert_exporter": "python",
   "pygments_lexer": "ipython2",
   "version": "2.7.6"
  }
 },
 "nbformat": 4,
 "nbformat_minor": 5
}
